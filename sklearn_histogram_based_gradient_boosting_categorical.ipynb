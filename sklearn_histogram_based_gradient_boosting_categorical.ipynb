{
 "cells": [
  {
   "cell_type": "code",
   "execution_count": 1,
   "id": "26cd2324",
   "metadata": {},
   "outputs": [],
   "source": [
    "import numpy as np\n",
    "import pandas as pd\n",
    "from sklearn.model_selection import GridSearchCV\n",
    "from sklearn.model_selection import cross_validate\n",
    "import matplotlib.pyplot as plt\n",
    "from sklearn.ensemble import HistGradientBoostingClassifier\n",
    "from sklearn.preprocessing import OrdinalEncoder\n",
    "from sklearn.compose import make_column_transformer, make_column_selector\n",
    "from sklearn.pipeline import make_pipeline\n",
    "\n",
    "import time as tm"
   ]
  },
  {
   "cell_type": "code",
   "execution_count": 2,
   "id": "3134e05d",
   "metadata": {},
   "outputs": [],
   "source": [
    "train = pd.read_csv(\n",
    "    '/data/temp/train.csv',\n",
    "    )\n",
    "\n",
    "numemrical_columns = ['age', 'fare']\n",
    "\n",
    "for c in train.columns:\n",
    "    if c not in numemrical_columns:\n",
    "        train[c] = train[c].astype(\"category\")\n",
    "\n",
    "X = train.drop(columns = ['survived', 'name', 'ticket', ])\n",
    "y = train['survived'].to_numpy()"
   ]
  },
  {
   "cell_type": "code",
   "execution_count": 3,
   "id": "caaa6f33",
   "metadata": {},
   "outputs": [
    {
     "name": "stdout",
     "output_type": "stream",
     "text": [
      "[True, True, False, True, True, False, True, True]\n"
     ]
    }
   ],
   "source": [
    "categorical_mask = [str(X[c].dtype) for c in X.columns]\n",
    "categorical_mask = [c == 'category' for c in categorical_mask]\n",
    "print(categorical_mask)"
   ]
  },
  {
   "cell_type": "code",
   "execution_count": 4,
   "id": "3be6fee3",
   "metadata": {},
   "outputs": [],
   "source": [
    "ordinal_encoder = OrdinalEncoder(\n",
    "    handle_unknown = \"use_encoded_value\", \n",
    "    unknown_value = np.nan)"
   ]
  },
  {
   "cell_type": "markdown",
   "id": "3e6afaee",
   "metadata": {},
   "source": [
    "ordinal_encoder.fit(X).transform(X)"
   ]
  },
  {
   "cell_type": "code",
   "execution_count": 5,
   "id": "523da1fd",
   "metadata": {},
   "outputs": [],
   "source": [
    "estimator = HistGradientBoostingClassifier(\n",
    "    categorical_features = categorical_mask,\n",
    "    )"
   ]
  },
  {
   "cell_type": "markdown",
   "id": "cee3cd93",
   "metadata": {},
   "source": [
    "X = ordinal_encoder.fit(X).transform(X)\n",
    "estimator.fit(X,y)"
   ]
  },
  {
   "cell_type": "code",
   "execution_count": 6,
   "id": "f23179c5",
   "metadata": {},
   "outputs": [],
   "source": [
    "hist_ordinal = make_pipeline(\n",
    "    ordinal_encoder, \n",
    "    estimator,\n",
    ")"
   ]
  },
  {
   "cell_type": "code",
   "execution_count": 7,
   "id": "8a91c0c4",
   "metadata": {},
   "outputs": [
    {
     "data": {
      "text/plain": [
       "dict_keys(['memory', 'steps', 'verbose', 'ordinalencoder', 'histgradientboostingclassifier', 'ordinalencoder__categories', 'ordinalencoder__dtype', 'ordinalencoder__handle_unknown', 'ordinalencoder__unknown_value', 'histgradientboostingclassifier__categorical_features', 'histgradientboostingclassifier__early_stopping', 'histgradientboostingclassifier__l2_regularization', 'histgradientboostingclassifier__learning_rate', 'histgradientboostingclassifier__loss', 'histgradientboostingclassifier__max_bins', 'histgradientboostingclassifier__max_depth', 'histgradientboostingclassifier__max_iter', 'histgradientboostingclassifier__max_leaf_nodes', 'histgradientboostingclassifier__min_samples_leaf', 'histgradientboostingclassifier__monotonic_cst', 'histgradientboostingclassifier__n_iter_no_change', 'histgradientboostingclassifier__random_state', 'histgradientboostingclassifier__scoring', 'histgradientboostingclassifier__tol', 'histgradientboostingclassifier__validation_fraction', 'histgradientboostingclassifier__verbose', 'histgradientboostingclassifier__warm_start'])"
      ]
     },
     "execution_count": 7,
     "metadata": {},
     "output_type": "execute_result"
    }
   ],
   "source": [
    "hist_ordinal.get_params().keys()"
   ]
  },
  {
   "cell_type": "code",
   "execution_count": 8,
   "id": "f777ec34",
   "metadata": {},
   "outputs": [
    {
     "ename": "SyntaxError",
     "evalue": "invalid syntax (Temp/ipykernel_4268/4139858098.py, line 5)",
     "output_type": "error",
     "traceback": [
      "\u001b[1;36m  File \u001b[1;32m\"C:\\Users\\gaoyu\\AppData\\Local\\Temp/ipykernel_4268/4139858098.py\"\u001b[1;36m, line \u001b[1;32m5\u001b[0m\n\u001b[1;33m    'histgradientboostingclassifier__l2_regularization':[0.0,0.5],\u001b[0m\n\u001b[1;37m    ^\u001b[0m\n\u001b[1;31mSyntaxError\u001b[0m\u001b[1;31m:\u001b[0m invalid syntax\n"
     ]
    }
   ],
   "source": [
    "param_grid = {\n",
    "    'histgradientboostingclassifier__learning_rate': [0.1,0.01],\n",
    "    'histgradientboostingclassifier__max_depth': [2,10],\n",
    "    'histgradientboostingclassifier__loss':['binary_crossentropy', 'categorical_crossentropy']\n",
    "    'histgradientboostingclassifier__l2_regularization':[0.0,0.5],\n",
    "    'histgradientboostingclassifier__max_leaf_nodes':[30,50],\n",
    "}"
   ]
  },
  {
   "cell_type": "code",
   "execution_count": null,
   "id": "0f3bd586",
   "metadata": {},
   "outputs": [],
   "source": [
    "gbm = GridSearchCV(\n",
    "    hist_ordinal, \n",
    "    param_grid, \n",
    "    cv = 5,\n",
    "    scoring = 'roc_auc')"
   ]
  },
  {
   "cell_type": "code",
   "execution_count": null,
   "id": "86bf2579",
   "metadata": {},
   "outputs": [],
   "source": [
    "start_time = tm.time()\n",
    "\n",
    "gbm.fit(X, y)\n",
    "\n",
    "running_time = tm.time() - start_time"
   ]
  },
  {
   "cell_type": "code",
   "execution_count": null,
   "id": "d554d42a",
   "metadata": {},
   "outputs": [],
   "source": [
    "print('running time: %f seconds'%(running_time))"
   ]
  },
  {
   "cell_type": "code",
   "execution_count": null,
   "id": "606cf81b",
   "metadata": {},
   "outputs": [],
   "source": [
    "gbm.best_score_"
   ]
  },
  {
   "cell_type": "code",
   "execution_count": null,
   "id": "e63d4c9d",
   "metadata": {},
   "outputs": [],
   "source": [
    "gbm_best = gbm.best_estimator_"
   ]
  },
  {
   "cell_type": "code",
   "execution_count": null,
   "id": "0f472bf5",
   "metadata": {},
   "outputs": [],
   "source": [
    "gbm_best.feature_names_in_"
   ]
  }
 ],
 "metadata": {
  "kernelspec": {
   "display_name": "Python 3 (ipykernel)",
   "language": "python",
   "name": "python3"
  },
  "language_info": {
   "codemirror_mode": {
    "name": "ipython",
    "version": 3
   },
   "file_extension": ".py",
   "mimetype": "text/x-python",
   "name": "python",
   "nbconvert_exporter": "python",
   "pygments_lexer": "ipython3",
   "version": "3.8.2"
  }
 },
 "nbformat": 4,
 "nbformat_minor": 5
}
